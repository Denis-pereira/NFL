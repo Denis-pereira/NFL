{
 "cells": [
  {
   "cell_type": "code",
   "execution_count": 1,
   "metadata": {
    "collapsed": true
   },
   "outputs": [],
   "source": [
    "import requests\n",
    "import urllib.request\n",
    "import time\n",
    "from bs4 import BeautifulSoup\n",
    "import pandas as pd"
   ]
  },
  {
   "cell_type": "code",
   "execution_count": 2,
   "metadata": {},
   "outputs": [
    {
     "name": "stdout",
     "output_type": "stream",
     "text": [
      "Which statistical category (rushing/passing):rushing\n",
      "For which year: 2011\n"
     ]
    }
   ],
   "source": [
    "statisticCategory = input(\"Which statistical category (rushing/passing):\")\n",
    "season = input(\"For which year: \")"
   ]
  },
  {
   "cell_type": "code",
   "execution_count": 3,
   "metadata": {
    "collapsed": true
   },
   "outputs": [],
   "source": [
    "# Datset could have multiple pages.  We will set on page 1 to begin\n",
    "p = 1"
   ]
  },
  {
   "cell_type": "code",
   "execution_count": 4,
   "metadata": {},
   "outputs": [],
   "source": [
    "payload = {\"statisticCategory\":statisticCategory.upper(),\"seasonType\":\"REG\",\"d-447263-p\":str(p),\"season\":season}\n",
    "url = 'http://www.nfl.com/stats/categorystats'\n",
    "response = requests.get(url,params=payload)\n"
   ]
  },
  {
   "cell_type": "code",
   "execution_count": 5,
   "metadata": {},
   "outputs": [
    {
     "name": "stdout",
     "output_type": "stream",
     "text": [
      "Response: 200 http://www.nfl.com/stats/categorystats?statisticCategory=RUSHING&seasonType=REG&d-447263-p=1&season=2011\n"
     ]
    }
   ],
   "source": [
    "print(\"Response:\", response.status_code,response.url) #200 means it went through\n"
   ]
  },
  {
   "cell_type": "code",
   "execution_count": 6,
   "metadata": {
    "collapsed": true
   },
   "outputs": [],
   "source": [
    "soup = BeautifulSoup(response.text,'html.parser')"
   ]
  },
  {
   "cell_type": "code",
   "execution_count": 7,
   "metadata": {},
   "outputs": [
    {
     "name": "stdout",
     "output_type": "stream",
     "text": [
      "Number of page links: 7\n"
     ]
    }
   ],
   "source": [
    "#The website table is partitioned into multiple pages.  We need to know how many pages to iterate\n",
    "\n",
    "pagingText = soup.find(\"span\", {\"class\": \"linkNavigation floatRight\"})\n",
    "\n",
    "pagingLinks = pagingText.findAll(\"a\")\n",
    "pages = len(pagingLinks)\n",
    "print(\"Number of page links:\",len(pagingLinks))"
   ]
  },
  {
   "cell_type": "code",
   "execution_count": 8,
   "metadata": {
    "collapsed": true
   },
   "outputs": [],
   "source": [
    "#Get Header for the table\n",
    "columnHeader = []\n",
    "header = soup.find('table', attrs={'id':'result'}).find_all('th')\n",
    "for c in header:\n",
    "    columnHeader.append(c.text)\n",
    "columnHeader = [c.strip('\\n') for c in columnHeader]\n"
   ]
  },
  {
   "cell_type": "code",
   "execution_count": 9,
   "metadata": {},
   "outputs": [
    {
     "name": "stdout",
     "output_type": "stream",
     "text": [
      "Page: 1 url: http://www.nfl.com/stats/categorystats?statisticCategory=RUSHING&seasonType=REG&d-447263-p=1&season=2011\n",
      "Page: 2 url: http://www.nfl.com/stats/categorystats?statisticCategory=RUSHING&seasonType=REG&d-447263-p=2&season=2011\n",
      "Page: 3 url: http://www.nfl.com/stats/categorystats?statisticCategory=RUSHING&seasonType=REG&d-447263-p=3&season=2011\n",
      "Page: 4 url: http://www.nfl.com/stats/categorystats?statisticCategory=RUSHING&seasonType=REG&d-447263-p=4&season=2011\n",
      "Page: 5 url: http://www.nfl.com/stats/categorystats?statisticCategory=RUSHING&seasonType=REG&d-447263-p=5&season=2011\n",
      "Page: 6 url: http://www.nfl.com/stats/categorystats?statisticCategory=RUSHING&seasonType=REG&d-447263-p=6&season=2011\n",
      "Page: 7 url: http://www.nfl.com/stats/categorystats?statisticCategory=RUSHING&seasonType=REG&d-447263-p=7&season=2011\n"
     ]
    }
   ],
   "source": [
    "tableRows = []\n",
    "\n",
    "for pg in range(1,pages+1):\n",
    "    \n",
    "    #pause our code for a second so that we are not spamming the website with requests. This helps us avoid getting flagged as a spammer.\n",
    "    time.sleep(1)\n",
    "    \n",
    "    #update page number in payload\n",
    "    payload[\"d-447263-p\"] = pg\n",
    "    response = requests.get(url,params=payload)\n",
    "    print(\"Page:\",pg,\"url:\",response.url)\n",
    "    soup = BeautifulSoup(response.text,'html.parser')\n",
    "    table = soup.find('table', attrs={'id':'result'})\n",
    "    rows = table.find_all('tr')\n",
    "\n",
    "    for row in rows:\n",
    "        cols = row.find_all('td')\n",
    "        if cols:\n",
    "            cols = [ele.text.strip() for ele in cols]\n",
    "            tableRows.append([ele for ele in cols if ele]) # Get rid of empty values\n",
    "    \n",
    "   \n"
   ]
  },
  {
   "cell_type": "code",
   "execution_count": 10,
   "metadata": {},
   "outputs": [
    {
     "data": {
      "text/html": [
       "<div>\n",
       "<style>\n",
       "    .dataframe thead tr:only-child th {\n",
       "        text-align: right;\n",
       "    }\n",
       "\n",
       "    .dataframe thead th {\n",
       "        text-align: left;\n",
       "    }\n",
       "\n",
       "    .dataframe tbody tr th {\n",
       "        vertical-align: top;\n",
       "    }\n",
       "</style>\n",
       "<table border=\"1\" class=\"dataframe\">\n",
       "  <thead>\n",
       "    <tr style=\"text-align: right;\">\n",
       "      <th></th>\n",
       "      <th>Rk</th>\n",
       "      <th>Player</th>\n",
       "      <th>Team</th>\n",
       "      <th>Pos</th>\n",
       "      <th>Att</th>\n",
       "      <th>Att/G</th>\n",
       "      <th>Yds</th>\n",
       "      <th>Avg</th>\n",
       "      <th>Yds/G</th>\n",
       "      <th>TD</th>\n",
       "      <th>Lng</th>\n",
       "      <th>1st</th>\n",
       "      <th>1st%</th>\n",
       "      <th>20+</th>\n",
       "      <th>40+</th>\n",
       "      <th>FUM</th>\n",
       "    </tr>\n",
       "  </thead>\n",
       "  <tbody>\n",
       "    <tr>\n",
       "      <th>0</th>\n",
       "      <td>1</td>\n",
       "      <td>Maurice Jones-Drew</td>\n",
       "      <td>JAC</td>\n",
       "      <td>RB</td>\n",
       "      <td>343</td>\n",
       "      <td>21.4</td>\n",
       "      <td>1,606</td>\n",
       "      <td>4.7</td>\n",
       "      <td>100.4</td>\n",
       "      <td>8</td>\n",
       "      <td>56</td>\n",
       "      <td>75</td>\n",
       "      <td>21.9</td>\n",
       "      <td>9</td>\n",
       "      <td>3</td>\n",
       "      <td>3</td>\n",
       "    </tr>\n",
       "    <tr>\n",
       "      <th>1</th>\n",
       "      <td>2</td>\n",
       "      <td>Arian Foster</td>\n",
       "      <td>HOU</td>\n",
       "      <td>RB</td>\n",
       "      <td>278</td>\n",
       "      <td>21.4</td>\n",
       "      <td>1,224</td>\n",
       "      <td>4.4</td>\n",
       "      <td>94.2</td>\n",
       "      <td>10</td>\n",
       "      <td>43</td>\n",
       "      <td>58</td>\n",
       "      <td>20.9</td>\n",
       "      <td>7</td>\n",
       "      <td>2</td>\n",
       "      <td>4</td>\n",
       "    </tr>\n",
       "    <tr>\n",
       "      <th>2</th>\n",
       "      <td>3</td>\n",
       "      <td>Fred Jackson</td>\n",
       "      <td>BUF</td>\n",
       "      <td>RB</td>\n",
       "      <td>170</td>\n",
       "      <td>17.0</td>\n",
       "      <td>934</td>\n",
       "      <td>5.5</td>\n",
       "      <td>93.4</td>\n",
       "      <td>6</td>\n",
       "      <td>80T</td>\n",
       "      <td>40</td>\n",
       "      <td>23.5</td>\n",
       "      <td>10</td>\n",
       "      <td>3</td>\n",
       "      <td>2</td>\n",
       "    </tr>\n",
       "    <tr>\n",
       "      <th>3</th>\n",
       "      <td>4</td>\n",
       "      <td>Darren McFadden</td>\n",
       "      <td>OAK</td>\n",
       "      <td>RB</td>\n",
       "      <td>113</td>\n",
       "      <td>16.1</td>\n",
       "      <td>614</td>\n",
       "      <td>5.4</td>\n",
       "      <td>87.7</td>\n",
       "      <td>4</td>\n",
       "      <td>70T</td>\n",
       "      <td>23</td>\n",
       "      <td>20.4</td>\n",
       "      <td>8</td>\n",
       "      <td>3</td>\n",
       "      <td>1</td>\n",
       "    </tr>\n",
       "    <tr>\n",
       "      <th>4</th>\n",
       "      <td>5</td>\n",
       "      <td>LeSean McCoy</td>\n",
       "      <td>PHI</td>\n",
       "      <td>RB</td>\n",
       "      <td>273</td>\n",
       "      <td>18.2</td>\n",
       "      <td>1,309</td>\n",
       "      <td>4.8</td>\n",
       "      <td>87.3</td>\n",
       "      <td>17</td>\n",
       "      <td>60</td>\n",
       "      <td>84</td>\n",
       "      <td>30.8</td>\n",
       "      <td>14</td>\n",
       "      <td>2</td>\n",
       "      <td>1</td>\n",
       "    </tr>\n",
       "  </tbody>\n",
       "</table>\n",
       "</div>"
      ],
      "text/plain": [
       "  Rk              Player Team Pos  Att Att/G    Yds  Avg  Yds/G  TD  Lng 1st  \\\n",
       "0  1  Maurice Jones-Drew  JAC  RB  343  21.4  1,606  4.7  100.4   8   56  75   \n",
       "1  2        Arian Foster  HOU  RB  278  21.4  1,224  4.4   94.2  10   43  58   \n",
       "2  3        Fred Jackson  BUF  RB  170  17.0    934  5.5   93.4   6  80T  40   \n",
       "3  4     Darren McFadden  OAK  RB  113  16.1    614  5.4   87.7   4  70T  23   \n",
       "4  5        LeSean McCoy  PHI  RB  273  18.2  1,309  4.8   87.3  17   60  84   \n",
       "\n",
       "   1st% 20+ 40+ FUM  \n",
       "0  21.9   9   3   3  \n",
       "1  20.9   7   2   4  \n",
       "2  23.5  10   3   2  \n",
       "3  20.4   8   3   1  \n",
       "4  30.8  14   2   1  "
      ]
     },
     "metadata": {},
     "output_type": "display_data"
    },
    {
     "data": {
      "text/plain": [
       "(319, 16)"
      ]
     },
     "metadata": {},
     "output_type": "display_data"
    }
   ],
   "source": [
    "resultsDF = pd.DataFrame(tableRows, columns=columnHeader)\n",
    "display(resultsDF.head(),resultsDF.shape)\n"
   ]
  },
  {
   "cell_type": "code",
   "execution_count": 11,
   "metadata": {},
   "outputs": [],
   "source": [
    "#Save results to Excel\n",
    "baseFileName = \"NFL_Stats_Demo_\"\n",
    "\n",
    "resultsDF.to_excel(baseFileName + statisticCategory + \"_\" + season + \".xlsx\",index=False)"
   ]
  },
  {
   "cell_type": "code",
   "execution_count": null,
   "metadata": {
    "collapsed": true
   },
   "outputs": [],
   "source": []
  }
 ],
 "metadata": {
  "kernelspec": {
   "display_name": "Python 3",
   "language": "python",
   "name": "python3"
  },
  "language_info": {
   "codemirror_mode": {
    "name": "ipython",
    "version": 3
   },
   "file_extension": ".py",
   "mimetype": "text/x-python",
   "name": "python",
   "nbconvert_exporter": "python",
   "pygments_lexer": "ipython3",
   "version": "3.6.3"
  }
 },
 "nbformat": 4,
 "nbformat_minor": 2
}
