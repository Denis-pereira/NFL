{
 "cells": [
  {
   "cell_type": "code",
   "execution_count": null,
   "metadata": {
    "collapsed": true
   },
   "outputs": [],
   "source": [
    "import requests\n",
    "import urllib.request\n",
    "import time\n",
    "from bs4 import BeautifulSoup\n",
    "import pandas as pd"
   ]
  },
  {
   "cell_type": "code",
   "execution_count": null,
   "metadata": {},
   "outputs": [],
   "source": [
    "statisticCategory = input()"
   ]
  },
  {
   "cell_type": "code",
   "execution_count": null,
   "metadata": {
    "collapsed": true
   },
   "outputs": [],
   "source": [
    "# Datset could have multiple pages.  We will set on page 1 to begin\n",
    "p = 1"
   ]
  },
  {
   "cell_type": "code",
   "execution_count": null,
   "metadata": {},
   "outputs": [],
   "source": [
    "payload = {\"statisticCategory\":statisticCategory.upper(),\"seasonType\":\"REG\",\"d-447263-p\":str(p)}\n",
    "url = 'http://www.nfl.com/stats/categorystats'\n",
    "response = requests.get(url,params=payload)\n"
   ]
  },
  {
   "cell_type": "code",
   "execution_count": null,
   "metadata": {},
   "outputs": [],
   "source": [
    "print(\"Response:\", response.status_code,response.url) #200 means it went through\n"
   ]
  },
  {
   "cell_type": "code",
   "execution_count": null,
   "metadata": {
    "collapsed": true
   },
   "outputs": [],
   "source": [
    "soup = BeautifulSoup(response.text,'html.parser')"
   ]
  },
  {
   "cell_type": "code",
   "execution_count": null,
   "metadata": {},
   "outputs": [],
   "source": [
    "#The website table is partitioned into multiple pages.  We need to know how many pages to iterate\n",
    "\n",
    "pagingText = soup.find(\"span\", {\"class\": \"linkNavigation floatRight\"})\n",
    "\n",
    "pagingLinks = pagingText.findAll(\"a\")\n",
    "pages = len(pagingLinks)\n",
    "print(\"Number of page links:\",len(pagingLinks))"
   ]
  },
  {
   "cell_type": "code",
   "execution_count": null,
   "metadata": {},
   "outputs": [],
   "source": [
    "#Get Header for the table\n",
    "columnHeader = []\n",
    "header = soup.find('table', attrs={'id':'result'}).find_all('th')\n",
    "for c in header:\n",
    "    columnHeader.append(c.text)\n",
    "columnHeader = [c.strip('\\n') for c in columnHeader]\n"
   ]
  },
  {
   "cell_type": "code",
   "execution_count": null,
   "metadata": {},
   "outputs": [],
   "source": [
    "tableRows = []\n",
    "\n",
    "for pg in range(1,pages+1):\n",
    "    \n",
    "    #pause our code for a second so that we are not spamming the website with requests. This helps us avoid getting flagged as a spammer.\n",
    "    time.sleep(1)\n",
    "    \n",
    "    #update page number in payload\n",
    "    payload[\"d-447263-p\"] = pg\n",
    "    response = requests.get(url,params=payload)\n",
    "    print(\"Page:\",pg,\"url:\",response.url)\n",
    "    soup = BeautifulSoup(response.text,'html.parser')\n",
    "    table = soup.find('table', attrs={'id':'result'})\n",
    "    rows = table.find_all('tr')\n",
    "\n",
    "    for row in rows:\n",
    "        cols = row.find_all('td')\n",
    "        if cols:\n",
    "            cols = [ele.text.strip() for ele in cols]\n",
    "            tableRows.append([ele for ele in cols if ele]) # Get rid of empty values\n",
    "    \n",
    "   \n"
   ]
  },
  {
   "cell_type": "code",
   "execution_count": null,
   "metadata": {},
   "outputs": [],
   "source": [
    "resultsDF = pd.DataFrame(tableRows, columns=columnHeader)\n",
    "display(resultsDF.head(),resultsDF.shape)\n"
   ]
  },
  {
   "cell_type": "code",
   "execution_count": null,
   "metadata": {},
   "outputs": [],
   "source": [
    "#Save results to Excel\n",
    "baseFileName = \"NFL_Stats_Demo_\"\n",
    "\n",
    "resultsDF.to_excel(baseFileName + statisticCategory + \".xlsx\")"
   ]
  },
  {
   "cell_type": "code",
   "execution_count": null,
   "metadata": {
    "collapsed": true
   },
   "outputs": [],
   "source": []
  }
 ],
 "metadata": {
  "kernelspec": {
   "display_name": "Python 3",
   "language": "python",
   "name": "python3"
  },
  "language_info": {
   "codemirror_mode": {
    "name": "ipython",
    "version": 3
   },
   "file_extension": ".py",
   "mimetype": "text/x-python",
   "name": "python",
   "nbconvert_exporter": "python",
   "pygments_lexer": "ipython3",
   "version": "3.6.3"
  }
 },
 "nbformat": 4,
 "nbformat_minor": 2
}
